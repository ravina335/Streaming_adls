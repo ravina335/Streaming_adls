{
 "cells": [
  {
   "cell_type": "code",
   "execution_count": null,
   "id": "7d6e30e3-e06e-402a-998e-6949fc912a67",
   "metadata": {},
   "outputs": [],
   "source": [
    "import os\n",
    "import pandas as pd\n",
    "import time\n",
    "from azure.storage.blob import BlobServiceClient\n",
    "\n",
    "# Azure config\n",
    "storage_account_url = \"https://rvnstorage123.blob.core.windows.net/\"\n",
    "container_name = \"raw\"\n",
    "folder_name = \"stream_input\"\n",
    "sas_token = \"?sp=racw&st=2025-06-23T11:20:38Z&se=2025-06-23T19:20:38Z&spr=https&sv=2024-11-04&sr=c&sig=%2BavHvxnH%2Br83L6qNj4NkBoV%2BR63rYrFNTOX1xaHpO2Y%3D\" \n",
    "\n",
    "# Init blob client\n",
    "blob_service_client = BlobServiceClient(account_url=storage_account_url, credential=sas_token)\n",
    "container_client = blob_service_client.get_container_client(container_name)\n",
    "\n",
    "def generate_csv(index):\n",
    "    data = {\n",
    "        \"id\": [index],\n",
    "        \"name\": [f\"Name{index}\"],\n",
    "        \"salary\": [1000 + index * 100]\n",
    "    }\n",
    "    df = pd.DataFrame(data)\n",
    "    filename = f\"employee_{index}.csv\"\n",
    "    df.to_csv(filename, index=False)\n",
    "    return filename\n",
    "\n",
    "def upload_to_adls(file_name):\n",
    "    blob_path = f\"{folder_name}/{file_name}\"\n",
    "    with open(file_name, \"rb\") as data:\n",
    "        container_client.upload_blob(name=blob_path, data=data)\n",
    "    print(f\"✅ Uploaded {file_name} to {blob_path}\")\n",
    "    os.remove(file_name)\n",
    "\n",
    "# Simulate streaming data\n",
    "for i in range(1, 10):\n",
    "    file_name = generate_csv(i)\n",
    "    upload_to_adls(file_name)\n",
    "    time.sleep(60) \n"
   ]
  }
 ],
 "metadata": {
  "kernelspec": {
   "display_name": "Python 3 (ipykernel)",
   "language": "python",
   "name": "python3"
  },
  "language_info": {
   "codemirror_mode": {
    "name": "ipython",
    "version": 3
   },
   "file_extension": ".py",
   "mimetype": "text/x-python",
   "name": "python",
   "nbconvert_exporter": "python",
   "pygments_lexer": "ipython3",
   "version": "3.13.3"
  }
 },
 "nbformat": 4,
 "nbformat_minor": 5
}
